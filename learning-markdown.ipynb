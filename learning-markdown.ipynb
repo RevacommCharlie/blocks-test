{
 "cells": [
  {
   "cell_type": "code",
   "execution_count": 1,
   "metadata": {},
   "outputs": [
    {
     "name": "stdout",
     "output_type": "stream",
     "text": [
      "hello world\n"
     ]
    }
   ],
   "source": [
    "print('hello world')"
   ]
  },
  {
   "cell_type": "code",
   "execution_count": 2,
   "metadata": {},
   "outputs": [],
   "source": [
    "# Markdown is supported on Github.com, Bitbucket, Gitlab, Jupyter Notebooks, PDF Files"
   ]
  },
  {
   "cell_type": "markdown",
   "metadata": {},
   "source": [
    "# Level 1 Header\n",
    "## Level 2 Header\n",
    "### Level 3 Header\n",
    "#### Level 4 Header\n",
    "##### Level 5 Header\n",
    "###### Level 6 Header"
   ]
  },
  {
   "cell_type": "markdown",
   "metadata": {},
   "source": [
    "###### **Formatting text**\n",
    "```markdown\n",
    "**Bold text**\n",
    "*Italicize text*\n",
    "_Bold-Italicize_\n",
    "~~Strikethrough~~\n",
    "<br> # Line break in html\n",
    "\\*Here are the escapes*\\\n",
    "\\[Here is text\\]\n",
    "$$ x + y $$\n",
    "`print('hello world')`\n",
    "```"
   ]
  },
  {
   "cell_type": "markdown",
   "metadata": {},
   "source": [
    "**Bold text** \n",
    "<br>*Italicize text*\n",
    "<br>_Bold-Italicize_\n",
    "<br>~~Strikethrough~~\n",
    "<br>\\*Here is a sentence\\*\n",
    "<br>\\[Here is text\\]\n",
    "<br>- [x] Completed check list item\n",
    "<br>- [ ] Incomplete check list item"
   ]
  },
  {
   "cell_type": "markdown",
   "metadata": {},
   "source": [
    "<br> $$ x^2 + y^3 $$"
   ]
  },
  {
   "cell_type": "markdown",
   "metadata": {},
   "source": [
    "`print('hello world')`"
   ]
  },
  {
   "cell_type": "markdown",
   "metadata": {},
   "source": [
    "```python\n",
    "print('hello world')\n",
    "```"
   ]
  },
  {
   "cell_type": "markdown",
   "metadata": {},
   "source": [
    "```bash\n",
    "git status\n",
    "git add .\n",
    "git commit -m \"message\"\n",
    "git push\n",
    "```"
   ]
  },
  {
   "cell_type": "markdown",
   "metadata": {},
   "source": [
    "```javascript\n",
    "{\n",
    "    {Data: \n",
    "    }\n",
    "```"
   ]
  },
  {
   "cell_type": "code",
   "execution_count": 3,
   "metadata": {},
   "outputs": [],
   "source": [
    "# Markdown supports css, html, and javascript"
   ]
  },
  {
   "cell_type": "markdown",
   "metadata": {},
   "source": [
    "<font color=\"blue\">Hello World</font>"
   ]
  },
  {
   "cell_type": "markdown",
   "metadata": {},
   "source": [
    "Quote Blocks: `>` operator\n",
    "> I write some text"
   ]
  },
  {
   "cell_type": "markdown",
   "metadata": {},
   "source": [
    "Add URLs or Web Links:\n",
    "> [This link is for Google](http://www.google.com)"
   ]
  },
  {
   "cell_type": "markdown",
   "metadata": {},
   "source": [
    "- First bullet\n",
    "- Second bullet\n",
    "- Third bullet\n",
    "* Fourth bullet\n",
    "+ Fifth bullet"
   ]
  },
  {
   "cell_type": "markdown",
   "metadata": {},
   "source": [
    "1. Sixth bullet\n",
    "1. Sixth bullet\n",
    "1. Sixth bullet\n",
    "1. Sixth bullet\n",
    "1. Sixth bullet"
   ]
  },
  {
   "cell_type": "markdown",
   "metadata": {},
   "source": [
    "2) Seventh bullet\n",
    "2) Seventh bullet\n",
    "2) Seventh bullet\n",
    "2) Seventh bullet\n",
    "2) Seventh bullet"
   ]
  },
  {
   "cell_type": "markdown",
   "metadata": {},
   "source": [
    "### [Emojipedia](https://emojipedia.org/)\n",
    "<font size=\"10\"> ❤️ 🙉</font>"
   ]
  },
  {
   "cell_type": "markdown",
   "metadata": {},
   "source": [
    "Name | Sport | Country\n",
    "--- | --- | ---\n",
    "Federer | Tennis | Switzerland\n",
    "Nadal | Tennis | Spain\n",
    "Jordan | Basketball | USA"
   ]
  },
  {
   "cell_type": "markdown",
   "metadata": {},
   "source": [
    "![Python logo](https://www.python.org/static/community_logos/python-logo-master-v3-TM.png)"
   ]
  },
  {
   "cell_type": "markdown",
   "metadata": {},
   "source": [
    "![Python logo](https://www.python.org/static/community_logos/python-logo-master-v3-TM.png)"
   ]
  },
  {
   "cell_type": "markdown",
   "metadata": {},
   "source": [
    "<details>\n",
    "    <summary><strong>Dropdown below</strong>\n",
    "    Here is some interesting text that we will read.\n",
    "    </summary>\n",
    "</details>"
   ]
  },
  {
   "cell_type": "markdown",
   "metadata": {},
   "source": [
    "&#8721;"
   ]
  },
  {
   "cell_type": "markdown",
   "metadata": {},
   "source": [
    "&#0169;"
   ]
  },
  {
   "cell_type": "markdown",
   "metadata": {},
   "source": [
    "Resources:\n",
    "> [XML and HTML Entities](https://en.wikipedia.org/wiki/List_of_XML_and_HTML_character_entity_references#Predefined_entities_in_XML)\n",
    "<br>\n",
    "> [Emojipedia](https://emojipedia.org/)\n",
    "<br>\n",
    "> [Emoji Cheat Sheet](https://www.webfx.com/tools/emoji-cheat-sheet/)\n",
    "<br>\n",
    "> [Github Flavor Markdown](https://github.github.com/gfm/)\n",
    "<br>\n",
    "> [Latex Cheatsheet](https://www.nyu.edu/projects/beber/files/Chang_LaTeX_sheet.pdf)\n",
    "<br>\n",
    "> [Restructured Text](http://docutils.sourceforge.net/docs/user/rst/quickstart.html)"
   ]
  },
  {
   "cell_type": "code",
   "execution_count": null,
   "metadata": {},
   "outputs": [],
   "source": []
  }
 ],
 "metadata": {
  "kernelspec": {
   "display_name": "Python 3",
   "language": "python",
   "name": "python3"
  },
  "language_info": {
   "codemirror_mode": {
    "name": "ipython",
    "version": 3
   },
   "file_extension": ".py",
   "mimetype": "text/x-python",
   "name": "python",
   "nbconvert_exporter": "python",
   "pygments_lexer": "ipython3",
   "version": "3.7.3"
  }
 },
 "nbformat": 4,
 "nbformat_minor": 4
}
